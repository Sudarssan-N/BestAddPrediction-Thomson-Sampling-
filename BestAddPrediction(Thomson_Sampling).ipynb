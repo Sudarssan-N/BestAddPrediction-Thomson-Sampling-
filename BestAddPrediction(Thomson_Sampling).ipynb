{
  "nbformat": 4,
  "nbformat_minor": 0,
  "metadata": {
    "colab": {
      "name": "BestAddPrediction(Thomson Sampling).ipynb",
      "provenance": [],
      "authorship_tag": "ABX9TyMhmUtBJy32QjjMzJNzenJw",
      "include_colab_link": true
    },
    "kernelspec": {
      "name": "python3",
      "display_name": "Python 3"
    },
    "language_info": {
      "name": "python"
    }
  },
  "cells": [
    {
      "cell_type": "markdown",
      "metadata": {
        "id": "view-in-github",
        "colab_type": "text"
      },
      "source": [
        "<a href=\"https://colab.research.google.com/github/Sudarssan-N/BestAddPrediction-Thomson-Sampling-/blob/main/BestAddPrediction(Thomson_Sampling).ipynb\" target=\"_parent\"><img src=\"https://colab.research.google.com/assets/colab-badge.svg\" alt=\"Open In Colab\"/></a>"
      ]
    },
    {
      "cell_type": "code",
      "execution_count": null,
      "metadata": {
        "id": "Cby1hu09yXoo"
      },
      "outputs": [],
      "source": [
        "import pandas as pd\n",
        "import matplotlib.pyplot as plt"
      ]
    },
    {
      "cell_type": "code",
      "source": [
        "dataset = pd.read_csv(\"file_Location\")\n",
        "dataset.head()\n"
      ],
      "metadata": {
        "id": "SXMTv1Dbynnr"
      },
      "execution_count": null,
      "outputs": []
    },
    {
      "cell_type": "code",
      "source": [
        "#implementing thomson Sampling\n",
        "import random\n",
        "N = 10000\n",
        "d= 10\n",
        "ads_selected = []\n",
        "no_of_rewards_1 = [0]* d\n",
        "no_of_rewards_0 = [0]*d\n",
        "total_reward = 0\n",
        "\n",
        "for n in range(N):\n",
        "  ad= 0 \n",
        "  max_random = 0\n",
        "  for i in range(0,d):\n",
        "      ramdom_beta = random. betavariate(no_of_rewards_1[i]+1, no_of_rewards_0[i]+1)\n",
        "      \n",
        "      if( random_beta > max_random):\n",
        "        max_random = random_beta\n",
        "        ad = i\n",
        "\n",
        "  ads_selected.append(ad)\n",
        "  reward = dataset.values[n, ad]\n",
        "  if reward ==1:\n",
        "    no_of_reward_1[ad] = no_of_reward_1[ad]+1\n",
        "  else:\n",
        "    no_of_reward_0[ad]+=1\n",
        "  total_reward+=reward "
      ],
      "metadata": {
        "id": "4dZMR8Bzy6Qc"
      },
      "execution_count": null,
      "outputs": []
    },
    {
      "cell_type": "code",
      "source": [
        "#visualize the results\n",
        "plt.hist(ads_selected)\n",
        "plt.title(\"histogramof selected ads\")\n",
        "plt.xlabel(\"ADs\")\n",
        "plt.ylabel(\"no of times the ads was selected\")\n"
      ],
      "metadata": {
        "id": "7jry1hxg1FG4"
      },
      "execution_count": null,
      "outputs": []
    }
  ]
}